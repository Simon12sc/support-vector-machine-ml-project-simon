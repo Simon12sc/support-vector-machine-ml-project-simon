{
 "cells": [
  {
   "cell_type": "code",
   "execution_count": 6,
   "id": "1d6ae707",
   "metadata": {},
   "outputs": [],
   "source": [
    "import numpy as np\n",
    "import pandas as pd\n",
    "from sklearn.datasets import load_breast_cancer\n",
    "data=load_breast_cancer()\n",
    "\n",
    "\n",
    "df=pd.DataFrame(np.c_[data[\"data\"],data[\"target\"]],columns=[list(data[\"feature_names\"])+[\"target\"]])\n",
    "x=df.iloc[:,0:-1]\n",
    "y=df.iloc[:,-1]\n",
    "\n",
    "from sklearn.model_selection import train_test_split\n",
    "xtrain,xtest,ytrain,ytest=train_test_split(x,y,random_state=23,test_size=0.2)\n",
    "\n",
    "from sklearn.preprocessing import StandardScaler\n",
    "sc=StandardScaler()\n",
    "xtrain=sc.fit_transform(xtrain)\n",
    "xtest=sc.fit_transform(xtest)\n",
    "\n",
    "\n",
    "from sklearn.svm import SVC\n",
    "svc=SVC(kernel=\"rbf\")#radial basis function\n",
    "svc.fit(xtrain,ytrain)\n",
    "\n",
    "import pickle as pkl\n",
    "pkl.dump(svc,open(\"model.pkl\",\"wb\"))"
   ]
  },
  {
   "cell_type": "code",
   "execution_count": 7,
   "id": "371c4a52",
   "metadata": {},
   "outputs": [
    {
     "data": {
      "text/plain": [
       "[array([-0.46980716, -0.16373631, -0.49893028, -0.50040974, -0.72444598,\n",
       "        -0.71699628, -0.61102603, -0.61352045,  0.59645569, -0.02729568,\n",
       "        -0.60315364, -0.36698442, -0.6112071 , -0.44257559, -0.55326622,\n",
       "        -0.58639385, -0.47142675, -0.62222882, -0.39988641, -0.46247577,\n",
       "        -0.49622127,  0.14208299, -0.54546224, -0.50197335, -0.48342887,\n",
       "        -0.47113749, -0.3299392 , -0.41811653,  0.45595598, -0.00297641])]"
      ]
     },
     "execution_count": 7,
     "metadata": {},
     "output_type": "execute_result"
    }
   ],
   "source": [
    "[xtest[0]]"
   ]
  },
  {
   "cell_type": "code",
   "execution_count": 8,
   "id": "b20f0ba5",
   "metadata": {},
   "outputs": [
    {
     "data": {
      "text/plain": [
       "array(['malignant', 'benign'], dtype='<U9')"
      ]
     },
     "execution_count": 8,
     "metadata": {},
     "output_type": "execute_result"
    }
   ],
   "source": [
    "data.target_names\n"
   ]
  },
  {
   "cell_type": "code",
   "execution_count": null,
   "id": "f0527b98",
   "metadata": {},
   "outputs": [],
   "source": []
  }
 ],
 "metadata": {
  "kernelspec": {
   "display_name": "Python 3 (ipykernel)",
   "language": "python",
   "name": "python3"
  },
  "language_info": {
   "codemirror_mode": {
    "name": "ipython",
    "version": 3
   },
   "file_extension": ".py",
   "mimetype": "text/x-python",
   "name": "python",
   "nbconvert_exporter": "python",
   "pygments_lexer": "ipython3",
   "version": "3.11.3"
  }
 },
 "nbformat": 4,
 "nbformat_minor": 5
}
